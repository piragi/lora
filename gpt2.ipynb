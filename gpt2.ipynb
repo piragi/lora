{
 "cells": [
  {
   "cell_type": "code",
   "execution_count": 37,
   "metadata": {},
   "outputs": [],
   "source": [
    "import torch\n",
    "import torch.nn as nn\n",
    "\n",
    "class LoRALayer(nn.Module):\n",
    "    def __init__(self, weight, r, alpha):\n",
    "        super(LoRALayer, self).__init__()\n",
    "        self.weight = weight\n",
    "        self.weight.requires_grad = False\n",
    "        self.r = r\n",
    "        self.alpha = alpha\n",
    "        out_features = self.weight.shape[0]\n",
    "        in_features = self.weight.shape[1]\n",
    "        self.A = nn.Parameter(self.weight.new_zeros(self.r, in_features))\n",
    "        self.B = nn.Parameter(self.weight.new_zeros(out_features, r))\n",
    "    \n",
    "    def forward(self, x):\n",
    "        result = x @ self.weight.T\n",
    "        result += x @ (self.A.T @ self.B.T)\n",
    "        return result"
   ]
  },
  {
   "cell_type": "code",
   "execution_count": 47,
   "metadata": {},
   "outputs": [],
   "source": [
    "class FFN(nn.Module):\n",
    "    def __init__(self, in_channels, hidden_dim, out_channels):\n",
    "        super(FFN, self).__init__()\n",
    "        self.linear1 = nn.Linear(in_channels, hidden_dim)\n",
    "        self.linear2 = nn.Linear(hidden_dim, out_channels)\n",
    "        self.relu = nn.ReLU()\n",
    "        self.sigmoid = nn.Sigmoid()\n",
    "    \n",
    "    def forward(self, x):\n",
    "        x = self.linear1(x)\n",
    "        x = self.relu(x)\n",
    "        x = self.linear2(x)\n",
    "        return self.sigmoid(x)"
   ]
  },
  {
   "cell_type": "code",
   "execution_count": 49,
   "metadata": {},
   "outputs": [
    {
     "name": "stdout",
     "output_type": "stream",
     "text": [
      "Epoch 10, Loss: 0.18813684582710266\n",
      "Epoch 20, Loss: 0.20629438757896423\n",
      "Epoch 30, Loss: 0.12048628181219101\n",
      "Epoch 40, Loss: 0.1141696348786354\n",
      "Epoch 50, Loss: 0.054154861718416214\n",
      "Epoch 60, Loss: 0.04189957305788994\n",
      "Epoch 70, Loss: 0.024022269994020462\n",
      "Epoch 80, Loss: 0.016496988013386726\n",
      "Epoch 90, Loss: 0.012147413566708565\n",
      "Epoch 100, Loss: 0.008923808112740517\n",
      "Epoch 110, Loss: 0.008023484610021114\n",
      "Epoch 120, Loss: 0.005624703131616116\n",
      "Epoch 130, Loss: 0.004331280943006277\n",
      "Epoch 140, Loss: 0.0038061970844864845\n",
      "Epoch 150, Loss: 0.003470025723800063\n",
      "Input: [[0. 1.]], Predicted: [[0.9449311]]\n",
      "Input: [[1. 1.]], Predicted: [[0.05871405]]\n",
      "Input: [[1. 0.]], Predicted: [[0.9436962]]\n",
      "Input: [[0. 0.]], Predicted: [[0.05923378]]\n"
     ]
    }
   ],
   "source": [
    "from torch.utils.data import DataLoader, TensorDataset\n",
    "\n",
    "ffn = FFN(2, 16, 1)\n",
    "x_xor = torch.tensor([[0, 0], [0, 1], [1, 0], [1, 1]], dtype=torch.float32)\n",
    "y_xor = torch.tensor([[0], [1], [1], [0]], dtype=torch.float32)\n",
    "\n",
    "dataset_xor = TensorDataset(x_xor, y_xor)\n",
    "dataloader_xor = DataLoader(dataset_xor, batch_size=1, shuffle=True)\n",
    "\n",
    "def train_xor_model(model, dataloader):\n",
    "    criterion = torch.nn.MSELoss()\n",
    "    optimizer = torch.optim.Adam(model.parameters(), lr=0.01)\n",
    "    for epoch in range(150):\n",
    "        for inputs, labels in dataloader:\n",
    "            optimizer.zero_grad()\n",
    "            outputs = model(inputs)\n",
    "            loss = criterion(outputs, labels)\n",
    "            loss.backward()\n",
    "            optimizer.step()\n",
    "        if (epoch + 1) % 10 == 0:\n",
    "            print(f\"Epoch {epoch + 1}, Loss: {loss.item()}\")\n",
    "\n",
    "def validate_xor_model(model, dataloader):\n",
    "    model.eval()  # Set the model to evaluation mode\n",
    "    with torch.no_grad():  # No gradients needed for predictions\n",
    "        for inputs, labels in dataloader:\n",
    "            outputs = model(inputs)\n",
    "            print(f\"Input: {inputs.numpy()}, Predicted: {outputs.numpy()}\")\n",
    "\n",
    "train_xor_model(ffn, dataloader_xor)\n",
    "validate_xor_model(ffn, dataloader_xor)\n"
   ]
  },
  {
   "cell_type": "code",
   "execution_count": 50,
   "metadata": {},
   "outputs": [
    {
     "name": "stdout",
     "output_type": "stream",
     "text": [
      "Epoch 10, Loss: 0.9626904726028442\n",
      "Epoch 20, Loss: 0.22305436432361603\n",
      "Epoch 30, Loss: 0.2219855636358261\n",
      "Epoch 40, Loss: 0.05405284836888313\n",
      "Epoch 50, Loss: 0.0004834290884900838\n",
      "Epoch 60, Loss: 6.875165126984939e-05\n",
      "Epoch 70, Loss: 6.342078995658085e-05\n",
      "Epoch 80, Loss: 0.00043148259283043444\n",
      "Epoch 90, Loss: 0.00043931047548539937\n",
      "Epoch 100, Loss: 0.006996463984251022\n",
      "Epoch 110, Loss: 5.764966408605687e-05\n",
      "Epoch 120, Loss: 0.00046141701750457287\n",
      "Epoch 130, Loss: 0.06457482278347015\n",
      "Epoch 140, Loss: 0.05713595449924469\n",
      "Epoch 150, Loss: 0.0004778832080774009\n",
      "Input: [[0. 1.]], Predicted: [[0.99257636]]\n",
      "Input: [[1. 0.]], Predicted: [[0.978135]]\n",
      "Input: [[1. 1.]], Predicted: [[0.9391143]]\n",
      "Input: [[0. 0.]], Predicted: [[0.22481981]]\n"
     ]
    }
   ],
   "source": [
    "ffn_weight = ffn.linear1.weight\n",
    "lora_layer = LoRALayer(ffn_weight, 1, 0.1)\n",
    "ffn.linear1 = lora_layer\n",
    "\n",
    "y_or = torch.tensor([[0], [1], [1], [1]], dtype=torch.float32)\n",
    "\n",
    "dataset_xor = TensorDataset(x_xor, y_or)\n",
    "dataloader_xor = DataLoader(dataset_xor, batch_size=1, shuffle=True)\n",
    "\n",
    "train_xor_model(ffn, dataloader_xor)\n",
    "validate_xor_model(ffn, dataloader_xor)"
   ]
  }
 ],
 "metadata": {
  "kernelspec": {
   "display_name": "Python 3 (ipykernel)",
   "language": "python",
   "name": "python3"
  },
  "language_info": {
   "codemirror_mode": {
    "name": "ipython",
    "version": 3
   },
   "file_extension": ".py",
   "mimetype": "text/x-python",
   "name": "python",
   "nbconvert_exporter": "python",
   "pygments_lexer": "ipython3",
   "version": "3.10.12"
  }
 },
 "nbformat": 4,
 "nbformat_minor": 2
}

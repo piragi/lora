{
 "cells": [
  {
   "cell_type": "code",
   "execution_count": 1,
   "id": "2f7cf164-2fe2-4061-81b4-fbdfc2f34f06",
   "metadata": {},
   "outputs": [],
   "source": [
    "import torch\n",
    "import torch.nn as nn\n",
    "import torch.nn.functional as F\n",
    "import torch.cuda as cuda\n",
    "from transformers import AutoModelForSequenceClassification, AutoTokenizer, get_linear_schedule_with_warmup\n",
    "from datasets import load_dataset\n",
    "from torch.utils.data import DataLoader\n",
    "from torch.optim import AdamW\n",
    "from tqdm.auto import tqdm\n",
    "import time\n",
    "import matplotlib.pyplot as plt\n",
    "import psutil\n",
    "from IPython.display import clear_output\n",
    "import gc"
   ]
  },
  {
   "cell_type": "markdown",
   "id": "03d70c48-1c67-4213-a98d-3e7c7ac26e0b",
   "metadata": {},
   "source": [
    "# LoRA Setup\n",
    "\n",
    "First, we need to setup a LoRALayer class which we can then inject into our transformer model, switching out only the query and value attention layers as stated in the original paper. The following code should work on any transformer model and therefore is model-agnostic, as long as the query and value layers hold \"query\" and \"value\" in their names."
   ]
  },
  {
   "cell_type": "code",
   "execution_count": 2,
   "id": "a6ff64fc-a4f3-4c02-939c-d9e54cb695b1",
   "metadata": {},
   "outputs": [],
   "source": [
    "class LoRALayer(nn.Module):\n",
    "    def __init__(self, original_layer, rank=4, alpha=1):\n",
    "        super().__init__()\n",
    "        self.original_layer = original_layer\n",
    "        for param in self.original_layer.parameters():\n",
    "            param.requires_grad = False\n",
    "        self.rank = rank\n",
    "        self.alpha = alpha\n",
    "        self.scaling = alpha / rank\n",
    "        self.lora_A = nn.Parameter(torch.randn(original_layer.in_features, rank) * 0.01)\n",
    "        self.lora_B = nn.Parameter(torch.zeros(rank, original_layer.out_features))\n",
    "\n",
    "    def forward(self, x):\n",
    "        original_output = self.original_layer(x)\n",
    "        lora_output = (x @ self.lora_A @ self.lora_B) * self.scaling\n",
    "        return original_output + lora_output\n",
    "\n",
    "def apply_lora(model, rank=8, alpha=8):\n",
    "    for name, module in model.named_modules():\n",
    "        if isinstance(module, nn.Linear) and any(x in name for x in ['query', 'value']):\n",
    "            parent_name = '.'.join(name.split('.')[:-1])\n",
    "            child_name = name.split('.')[-1]\n",
    "            parent = model.get_submodule(parent_name)\n",
    "            lora_layer = LoRALayer(module, rank, alpha)\n",
    "            setattr(parent, child_name, lora_layer)\n",
    "    \n",
    "    for name, param in model.named_parameters():\n",
    "        if 'lora_A' in name or 'lora_B' in name:\n",
    "            param.requires_grad = True\n",
    "        else:\n",
    "            param.requires_grad = False\n",
    "    \n",
    "    return model\n",
    "\n",
    "def count_parameters(model):\n",
    "    return sum(p.numel() for p in model.parameters() if p.requires_grad)"
   ]
  },
  {
   "cell_type": "code",
   "execution_count": 3,
   "id": "0b92aec5-e55d-4561-869a-4863c67a2f05",
   "metadata": {},
   "outputs": [],
   "source": [
    "from sklearn.metrics import matthews_corrcoef, f1_score\n",
    "import numpy as np\n",
    "\n",
    "def train_epoch(model, dataloader, optimizer, scheduler, device):\n",
    "    model.train()\n",
    "    total_loss = 0\n",
    "    total_correct = 0\n",
    "    total_samples = 0\n",
    "    start_time = time.time()\n",
    "    \n",
    "    for batch_idx, batch in enumerate(tqdm(dataloader, desc=\"Training\")):\n",
    "        batch = {k: v.to(device) for k, v in batch.items()}\n",
    "        outputs = model(**batch)\n",
    "        loss = outputs.loss\n",
    "        total_loss += loss.item()\n",
    "        \n",
    "        predictions = torch.argmax(outputs.logits, dim=-1)\n",
    "        total_correct += (predictions == batch['labels']).sum().item()\n",
    "        total_samples += batch['labels'].size(0)\n",
    "        \n",
    "        loss.backward()\n",
    "        optimizer.step()\n",
    "        scheduler.step()\n",
    "        optimizer.zero_grad()\n",
    "        \n",
    "        if (batch_idx + 1) % 100 == 0:\n",
    "            current_loss = total_loss / (batch_idx + 1)\n",
    "            current_accuracy = total_correct / total_samples\n",
    "            print(f\"  Batch {batch_idx+1}: Loss: {current_loss:.4f}, Accuracy: {current_accuracy:.4f}\")\n",
    "    \n",
    "    epoch_time = time.time() - start_time\n",
    "    avg_loss = total_loss / len(dataloader)\n",
    "    accuracy = total_correct / total_samples\n",
    "    \n",
    "    return avg_loss, accuracy, epoch_time\n",
    "\n",
    "def evaluate(model, dataloader, device):\n",
    "    model.eval()\n",
    "    total_loss = 0\n",
    "    all_predictions = []\n",
    "    all_labels = []\n",
    "    start_time = time.time()\n",
    "    \n",
    "    with torch.no_grad():\n",
    "        for batch in tqdm(dataloader, desc=\"Evaluating\"):\n",
    "            batch = {k: v.to(device) for k, v in batch.items()}\n",
    "            outputs = model(**batch)\n",
    "            loss = outputs.loss\n",
    "            total_loss += loss.item()\n",
    "            predictions = torch.argmax(outputs.logits, dim=-1)\n",
    "            \n",
    "            all_predictions.extend(predictions.cpu().numpy())\n",
    "            all_labels.extend(batch[\"labels\"].cpu().numpy())\n",
    "    \n",
    "    eval_time = time.time() - start_time\n",
    "    avg_loss = total_loss / len(dataloader)\n",
    "    \n",
    "    # Convert lists to numpy arrays\n",
    "    all_predictions = np.array(all_predictions)\n",
    "    all_labels = np.array(all_labels)\n",
    "    \n",
    "    # Calculate accuracy\n",
    "    accuracy = (all_predictions == all_labels).mean()\n",
    "    \n",
    "    # Calculate Matthews Correlation Coefficient\n",
    "    mcc = matthews_corrcoef(all_labels, all_predictions)\n",
    "    \n",
    "    # Calculate F1 score\n",
    "    f1 = f1_score(all_labels, all_predictions, average='binary')\n",
    "    \n",
    "    return avg_loss, accuracy, mcc, f1, eval_time"
   ]
  },
  {
   "cell_type": "code",
   "execution_count": 4,
   "id": "fed85a32-a347-4c16-af9a-c85432dd2507",
   "metadata": {},
   "outputs": [],
   "source": [
    "def train_model(model, train_dataloader, eval_dataloader, learning_rate, num_epochs, device):\n",
    "    optimizer = AdamW(model.parameters(), lr=learning_rate)\n",
    "    scheduler = get_linear_schedule_with_warmup(optimizer, num_warmup_steps=250, num_training_steps=len(train_dataloader) * num_epochs)\n",
    "    \n",
    "    train_losses = []\n",
    "    train_accuracies = []\n",
    "    eval_losses = []\n",
    "    eval_accuracies = []\n",
    "    \n",
    "    total_train_time = 0\n",
    "    total_eval_time = 0\n",
    "    peak_memory_usage = 0\n",
    "    \n",
    "    for epoch in range(num_epochs):\n",
    "        # Training\n",
    "        train_loss, train_accuracy, train_time = train_epoch(model, train_dataloader, optimizer, scheduler, device)\n",
    "        total_train_time += train_time\n",
    "        train_losses.append(train_loss)\n",
    "        train_accuracies.append(train_accuracy)\n",
    "        \n",
    "        # Update peak memory usage\n",
    "        current_memory = torch.cuda.memory_allocated() / 1e9  # Convert to GB\n",
    "        peak_memory_usage = max(peak_memory_usage, current_memory)\n",
    "        \n",
    "        # Evaluation\n",
    "        eval_loss, eval_accuracy, eval_mcc, eval_f1, eval_time = evaluate(model, eval_dataloader, device)\n",
    "        total_eval_time += eval_time\n",
    "        eval_losses.append(eval_loss)\n",
    "        eval_accuracies.append(eval_accuracy)\n",
    "        \n",
    "        print(f\"Epoch {epoch+1}/{num_epochs}\")\n",
    "        print(f\"  Train Loss: {train_loss:.4f}, Accuracy: {train_accuracy:.4f}, Time: {train_time:.2f}s\")\n",
    "        print(f\"  Eval Loss: {eval_loss:.4f}, Accuracy: {eval_accuracy:.4f}, Time: {eval_time:.2f}s\")\n",
    "    \n",
    "    return {\n",
    "        'train_losses': train_losses,\n",
    "        'train_accuracies': train_accuracies,\n",
    "        'eval_losses': eval_losses,\n",
    "        'eval_accuracies': eval_accuracies,\n",
    "        'total_train_time': total_train_time,\n",
    "        'total_eval_time': total_eval_time,\n",
    "        'peak_memory_usage': peak_memory_usage,\n",
    "        'final_train_accuracy': train_accuracies[-1],\n",
    "        'final_eval_accuracy': eval_accuracies[-1]\n",
    "    }\n",
    "\n",
    "def print_train_results(name, results):\n",
    "    print(f\"{name}:\")\n",
    "    print(f\"  Total training time: {results['total_train_time']:.2f}s\")\n",
    "    print(f\"  Total evaluation time: {results['total_eval_time']:.2f}s\")\n",
    "    print(f\"  Peak GPU memory usage: {results['peak_memory_usage']:.2f}GB\")\n",
    "    print(f\"  Final evaluation accuracy: {results['eval_accuracies'][-1]:.4f}\")"
   ]
  },
  {
   "cell_type": "markdown",
   "id": "71248bfc-8fc3-4482-b16c-6076eaf4b792",
   "metadata": {},
   "source": [
    "# Reproducing MRPC with RoBeRTa-base\n",
    "\n",
    "We restrict ourselves to comparing full fine-tuning with LoRA on RoBeRTa-base, testing MRPC (this notebook) and SST-2 and CoLA (other notebooks) of the GLUE benchmark. Because we do not have the resources to create a proper submission for GLUE and therefore also cannot do a proper evaluation on the test split, we create our own test split from part of the train split.\n",
    "\n",
    "In this notebook, we reproduce the Microsoft Research Paraphrase Corpus (MRPC), which contains sentences and a label whether they are a paraphrase of each other, therefore being a binary classification task. As in the paper, we will use a batch size of 16, a learning rate of 4e-4 for LoRA, a rank of 8, alpha of 8 and a maximum sequence length of 512."
   ]
  },
  {
   "cell_type": "markdown",
   "id": "a1becc97-2a51-4472-81e4-bcf9851be6cf",
   "metadata": {},
   "source": [
    "### Setup"
   ]
  },
  {
   "cell_type": "code",
   "execution_count": 5,
   "id": "ff7c88ec-f792-4671-b1ee-4a9250f09e66",
   "metadata": {},
   "outputs": [],
   "source": [
    "batch_size = 16\n",
    "num_epochs = 5\n",
    "full_learning_rate = 1e-5\n",
    "lora_learning_rate = 4e-4\n",
    "rank = 8\n",
    "alpha = 8\n",
    "max_sequence_length = 512"
   ]
  },
  {
   "cell_type": "code",
   "execution_count": 6,
   "id": "bbc7755a-73c5-4bf7-8edd-ab15885b1a16",
   "metadata": {},
   "outputs": [
    {
     "data": {
      "application/vnd.jupyter.widget-view+json": {
       "model_id": "f18050bede824f31af8b4ee17a8c725a",
       "version_major": 2,
       "version_minor": 0
      },
      "text/plain": [
       "Map:   0%|          | 0/3301 [00:00<?, ? examples/s]"
      ]
     },
     "metadata": {},
     "output_type": "display_data"
    },
    {
     "data": {
      "application/vnd.jupyter.widget-view+json": {
       "model_id": "fd61118e19414d1c8faa2c4c38a90aff",
       "version_major": 2,
       "version_minor": 0
      },
      "text/plain": [
       "Map:   0%|          | 0/367 [00:00<?, ? examples/s]"
      ]
     },
     "metadata": {},
     "output_type": "display_data"
    }
   ],
   "source": [
    "raw_dataset = load_dataset(\"glue\", \"mrpc\")\n",
    "tokenizer = AutoTokenizer.from_pretrained(\"roberta-base\")\n",
    "\n",
    "def tokenize_function(examples):\n",
    "    return tokenizer(examples[\"sentence1\"], examples[\"sentence2\"], truncation=True, padding=\"max_length\", max_length=max_sequence_length)\n",
    "    \n",
    "split = raw_dataset[\"train\"].train_test_split(test_size=0.1)\n",
    "dataset = split\n",
    "dataset[\"validation\"] = raw_dataset[\"validation\"]\n",
    "\n",
    "tokenized_datasets = dataset.map(tokenize_function, batched=True)\n",
    "tokenized_datasets = tokenized_datasets.remove_columns([\"sentence1\", \"sentence2\", \"idx\"])\n",
    "tokenized_datasets = tokenized_datasets.rename_column(\"label\", \"labels\")\n",
    "tokenized_datasets.set_format(\"torch\")\n",
    "\n",
    "train_dataloader = DataLoader(tokenized_datasets[\"train\"], shuffle=True, batch_size=batch_size)\n",
    "eval_dataloader = DataLoader(tokenized_datasets[\"validation\"], batch_size=batch_size)\n",
    "test_dataloader = DataLoader(tokenized_datasets[\"test\"], batch_size=batch_size)"
   ]
  },
  {
   "cell_type": "code",
   "execution_count": 7,
   "id": "02e26826-112f-4860-b4d4-ec36b6c2dcbb",
   "metadata": {},
   "outputs": [
    {
     "name": "stderr",
     "output_type": "stream",
     "text": [
      "Some weights of RobertaForSequenceClassification were not initialized from the model checkpoint at roberta-base and are newly initialized: ['classifier.dense.bias', 'classifier.dense.weight', 'classifier.out_proj.bias', 'classifier.out_proj.weight']\n",
      "You should probably TRAIN this model on a down-stream task to be able to use it for predictions and inference.\n"
     ]
    },
    {
     "name": "stdout",
     "output_type": "stream",
     "text": [
      "Full fine-tuning trainable parameters: 124647170\n"
     ]
    },
    {
     "name": "stderr",
     "output_type": "stream",
     "text": [
      "Some weights of RobertaForSequenceClassification were not initialized from the model checkpoint at roberta-base and are newly initialized: ['classifier.dense.bias', 'classifier.dense.weight', 'classifier.out_proj.bias', 'classifier.out_proj.weight']\n",
      "You should probably TRAIN this model on a down-stream task to be able to use it for predictions and inference.\n"
     ]
    },
    {
     "name": "stdout",
     "output_type": "stream",
     "text": [
      "LoRA trainable parameters: 294912\n"
     ]
    }
   ],
   "source": [
    "device = torch.device(\"cuda\" if torch.cuda.is_available() else \"cpu\")\n",
    "\n",
    "# Full fine-tuning setup\n",
    "full_model = AutoModelForSequenceClassification.from_pretrained(\"roberta-base\", num_labels=2).to(device)\n",
    "full_params = sum(p.numel() for p in full_model.parameters() if p.requires_grad)\n",
    "print(f\"Full fine-tuning trainable parameters: {full_params}\")\n",
    "\n",
    "# LoRA setup\n",
    "lora_model = AutoModelForSequenceClassification.from_pretrained(\"roberta-base\", num_labels=2)\n",
    "lora_model = apply_lora(lora_model, rank=rank, alpha=alpha).to(device)\n",
    "lora_params = sum(p.numel() for p in lora_model.parameters() if p.requires_grad)\n",
    "print(f\"LoRA trainable parameters: {lora_params}\")"
   ]
  },
  {
   "cell_type": "markdown",
   "id": "52a01d00-fe1c-4e38-abb3-9bf8549b19b8",
   "metadata": {},
   "source": [
    "### Training"
   ]
  },
  {
   "cell_type": "code",
   "execution_count": 8,
   "id": "4533ce8c-b45d-4b22-a42c-7b30d9fda7f9",
   "metadata": {
    "editable": true,
    "slideshow": {
     "slide_type": ""
    },
    "tags": []
   },
   "outputs": [
    {
     "name": "stdout",
     "output_type": "stream",
     "text": [
      "Running full fine-tuning experiment...\n"
     ]
    },
    {
     "data": {
      "application/vnd.jupyter.widget-view+json": {
       "model_id": "31bc0a2f46e54043803c9ab61d6de23e",
       "version_major": 2,
       "version_minor": 0
      },
      "text/plain": [
       "Training:   0%|          | 0/207 [00:00<?, ?it/s]"
      ]
     },
     "metadata": {},
     "output_type": "display_data"
    },
    {
     "name": "stdout",
     "output_type": "stream",
     "text": [
      "  Batch 100: Loss: 0.6566, Accuracy: 0.6706\n",
      "  Batch 200: Loss: 0.6285, Accuracy: 0.6700\n"
     ]
    },
    {
     "data": {
      "application/vnd.jupyter.widget-view+json": {
       "model_id": "aa593f80cf2040bf9edc87c3d2dd87aa",
       "version_major": 2,
       "version_minor": 0
      },
      "text/plain": [
       "Evaluating:   0%|          | 0/26 [00:00<?, ?it/s]"
      ]
     },
     "metadata": {},
     "output_type": "display_data"
    },
    {
     "name": "stdout",
     "output_type": "stream",
     "text": [
      "Epoch 1/5\n",
      "  Train Loss: 0.6249, Accuracy: 0.6707, Time: 294.75s\n",
      "  Eval Loss: 0.4920, Accuracy: 0.7157, Time: 12.69s\n"
     ]
    },
    {
     "data": {
      "application/vnd.jupyter.widget-view+json": {
       "model_id": "33f2e589834748d69c75e763895bedea",
       "version_major": 2,
       "version_minor": 0
      },
      "text/plain": [
       "Training:   0%|          | 0/207 [00:00<?, ?it/s]"
      ]
     },
     "metadata": {},
     "output_type": "display_data"
    },
    {
     "name": "stdout",
     "output_type": "stream",
     "text": [
      "  Batch 100: Loss: 0.4634, Accuracy: 0.7875\n",
      "  Batch 200: Loss: 0.4285, Accuracy: 0.8072\n"
     ]
    },
    {
     "data": {
      "application/vnd.jupyter.widget-view+json": {
       "model_id": "ac533ca6d15a4d9ebd46cc1ba47deaab",
       "version_major": 2,
       "version_minor": 0
      },
      "text/plain": [
       "Evaluating:   0%|          | 0/26 [00:00<?, ?it/s]"
      ]
     },
     "metadata": {},
     "output_type": "display_data"
    },
    {
     "name": "stdout",
     "output_type": "stream",
     "text": [
      "Epoch 2/5\n",
      "  Train Loss: 0.4242, Accuracy: 0.8095, Time: 298.04s\n",
      "  Eval Loss: 0.2894, Accuracy: 0.8873, Time: 12.70s\n"
     ]
    },
    {
     "data": {
      "application/vnd.jupyter.widget-view+json": {
       "model_id": "f0077e99d1d24cce8d4858e62371de7b",
       "version_major": 2,
       "version_minor": 0
      },
      "text/plain": [
       "Training:   0%|          | 0/207 [00:00<?, ?it/s]"
      ]
     },
     "metadata": {},
     "output_type": "display_data"
    },
    {
     "name": "stdout",
     "output_type": "stream",
     "text": [
      "  Batch 100: Loss: 0.2704, Accuracy: 0.8919\n",
      "  Batch 200: Loss: 0.2570, Accuracy: 0.8931\n"
     ]
    },
    {
     "data": {
      "application/vnd.jupyter.widget-view+json": {
       "model_id": "4c693250496443f080b961f8f9fb96e6",
       "version_major": 2,
       "version_minor": 0
      },
      "text/plain": [
       "Evaluating:   0%|          | 0/26 [00:00<?, ?it/s]"
      ]
     },
     "metadata": {},
     "output_type": "display_data"
    },
    {
     "name": "stdout",
     "output_type": "stream",
     "text": [
      "Epoch 3/5\n",
      "  Train Loss: 0.2563, Accuracy: 0.8922, Time: 298.04s\n",
      "  Eval Loss: 0.2947, Accuracy: 0.8824, Time: 12.73s\n"
     ]
    },
    {
     "data": {
      "application/vnd.jupyter.widget-view+json": {
       "model_id": "73a997a56143432681e64cb89113837a",
       "version_major": 2,
       "version_minor": 0
      },
      "text/plain": [
       "Training:   0%|          | 0/207 [00:00<?, ?it/s]"
      ]
     },
     "metadata": {},
     "output_type": "display_data"
    },
    {
     "name": "stdout",
     "output_type": "stream",
     "text": [
      "  Batch 100: Loss: 0.1463, Accuracy: 0.9456\n",
      "  Batch 200: Loss: 0.1592, Accuracy: 0.9359\n"
     ]
    },
    {
     "data": {
      "application/vnd.jupyter.widget-view+json": {
       "model_id": "b5e34eaa27f34fd196615b3659eb52d8",
       "version_major": 2,
       "version_minor": 0
      },
      "text/plain": [
       "Evaluating:   0%|          | 0/26 [00:00<?, ?it/s]"
      ]
     },
     "metadata": {},
     "output_type": "display_data"
    },
    {
     "name": "stdout",
     "output_type": "stream",
     "text": [
      "Epoch 4/5\n",
      "  Train Loss: 0.1579, Accuracy: 0.9364, Time: 298.15s\n",
      "  Eval Loss: 0.3013, Accuracy: 0.8995, Time: 12.69s\n"
     ]
    },
    {
     "data": {
      "application/vnd.jupyter.widget-view+json": {
       "model_id": "64ecdb89a02c42d482fed4c4dd4ce28a",
       "version_major": 2,
       "version_minor": 0
      },
      "text/plain": [
       "Training:   0%|          | 0/207 [00:00<?, ?it/s]"
      ]
     },
     "metadata": {},
     "output_type": "display_data"
    },
    {
     "name": "stdout",
     "output_type": "stream",
     "text": [
      "  Batch 100: Loss: 0.0997, Accuracy: 0.9656\n",
      "  Batch 200: Loss: 0.0929, Accuracy: 0.9706\n"
     ]
    },
    {
     "data": {
      "application/vnd.jupyter.widget-view+json": {
       "model_id": "3428d15efa8e40548b10f87e0fe38929",
       "version_major": 2,
       "version_minor": 0
      },
      "text/plain": [
       "Evaluating:   0%|          | 0/26 [00:00<?, ?it/s]"
      ]
     },
     "metadata": {},
     "output_type": "display_data"
    },
    {
     "name": "stdout",
     "output_type": "stream",
     "text": [
      "Epoch 5/5\n",
      "  Train Loss: 0.0935, Accuracy: 0.9697, Time: 297.98s\n",
      "  Eval Loss: 0.3179, Accuracy: 0.8922, Time: 12.70s\n"
     ]
    }
   ],
   "source": [
    "print(\"Running full fine-tuning experiment...\")\n",
    "gc.collect()\n",
    "torch.cuda.empty_cache()\n",
    "full_results = train_model(full_model, train_dataloader, eval_dataloader, full_learning_rate, num_epochs, device)"
   ]
  },
  {
   "cell_type": "code",
   "execution_count": 9,
   "id": "2c13a9d6-1a59-4ee7-8fdd-e595e5fc5c41",
   "metadata": {},
   "outputs": [
    {
     "name": "stdout",
     "output_type": "stream",
     "text": [
      "\n",
      "Running LoRA experiment...\n"
     ]
    },
    {
     "data": {
      "application/vnd.jupyter.widget-view+json": {
       "model_id": "f1d1c75a01184ecbaa626d47340ec571",
       "version_major": 2,
       "version_minor": 0
      },
      "text/plain": [
       "Training:   0%|          | 0/207 [00:00<?, ?it/s]"
      ]
     },
     "metadata": {},
     "output_type": "display_data"
    },
    {
     "name": "stdout",
     "output_type": "stream",
     "text": [
      "  Batch 100: Loss: 0.6670, Accuracy: 0.6675\n",
      "  Batch 200: Loss: 0.6357, Accuracy: 0.6731\n"
     ]
    },
    {
     "data": {
      "application/vnd.jupyter.widget-view+json": {
       "model_id": "1d62008646ad47c0b5836a9e9c08917a",
       "version_major": 2,
       "version_minor": 0
      },
      "text/plain": [
       "Evaluating:   0%|          | 0/26 [00:00<?, ?it/s]"
      ]
     },
     "metadata": {},
     "output_type": "display_data"
    },
    {
     "name": "stdout",
     "output_type": "stream",
     "text": [
      "Epoch 1/5\n",
      "  Train Loss: 0.6334, Accuracy: 0.6722, Time: 224.99s\n",
      "  Eval Loss: 0.5502, Accuracy: 0.6838, Time: 12.67s\n"
     ]
    },
    {
     "data": {
      "application/vnd.jupyter.widget-view+json": {
       "model_id": "6927efd1698e4013842569c2d32e9c49",
       "version_major": 2,
       "version_minor": 0
      },
      "text/plain": [
       "Training:   0%|          | 0/207 [00:00<?, ?it/s]"
      ]
     },
     "metadata": {},
     "output_type": "display_data"
    },
    {
     "name": "stdout",
     "output_type": "stream",
     "text": [
      "  Batch 100: Loss: 0.5392, Accuracy: 0.6744\n",
      "  Batch 200: Loss: 0.5010, Accuracy: 0.7034\n"
     ]
    },
    {
     "data": {
      "application/vnd.jupyter.widget-view+json": {
       "model_id": "ec7037c45873415b90112e8a960732a3",
       "version_major": 2,
       "version_minor": 0
      },
      "text/plain": [
       "Evaluating:   0%|          | 0/26 [00:00<?, ?it/s]"
      ]
     },
     "metadata": {},
     "output_type": "display_data"
    },
    {
     "name": "stdout",
     "output_type": "stream",
     "text": [
      "Epoch 2/5\n",
      "  Train Loss: 0.4984, Accuracy: 0.7052, Time: 226.51s\n",
      "  Eval Loss: 0.3926, Accuracy: 0.8186, Time: 12.66s\n"
     ]
    },
    {
     "data": {
      "application/vnd.jupyter.widget-view+json": {
       "model_id": "d906f1b48626495bb4bb61b2a65e0262",
       "version_major": 2,
       "version_minor": 0
      },
      "text/plain": [
       "Training:   0%|          | 0/207 [00:00<?, ?it/s]"
      ]
     },
     "metadata": {},
     "output_type": "display_data"
    },
    {
     "name": "stdout",
     "output_type": "stream",
     "text": [
      "  Batch 100: Loss: 0.3958, Accuracy: 0.8206\n",
      "  Batch 200: Loss: 0.3908, Accuracy: 0.8272\n"
     ]
    },
    {
     "data": {
      "application/vnd.jupyter.widget-view+json": {
       "model_id": "1a4900885cb0451c8e4d9e1a35e765dd",
       "version_major": 2,
       "version_minor": 0
      },
      "text/plain": [
       "Evaluating:   0%|          | 0/26 [00:00<?, ?it/s]"
      ]
     },
     "metadata": {},
     "output_type": "display_data"
    },
    {
     "name": "stdout",
     "output_type": "stream",
     "text": [
      "Epoch 3/5\n",
      "  Train Loss: 0.3936, Accuracy: 0.8243, Time: 226.48s\n",
      "  Eval Loss: 0.3351, Accuracy: 0.8505, Time: 12.67s\n"
     ]
    },
    {
     "data": {
      "application/vnd.jupyter.widget-view+json": {
       "model_id": "753ddbfd3965439a8e8ffd4cd67e27ab",
       "version_major": 2,
       "version_minor": 0
      },
      "text/plain": [
       "Training:   0%|          | 0/207 [00:00<?, ?it/s]"
      ]
     },
     "metadata": {},
     "output_type": "display_data"
    },
    {
     "name": "stdout",
     "output_type": "stream",
     "text": [
      "  Batch 100: Loss: 0.3383, Accuracy: 0.8500\n",
      "  Batch 200: Loss: 0.3315, Accuracy: 0.8538\n"
     ]
    },
    {
     "data": {
      "application/vnd.jupyter.widget-view+json": {
       "model_id": "764c89800d054139a2895185eb331678",
       "version_major": 2,
       "version_minor": 0
      },
      "text/plain": [
       "Evaluating:   0%|          | 0/26 [00:00<?, ?it/s]"
      ]
     },
     "metadata": {},
     "output_type": "display_data"
    },
    {
     "name": "stdout",
     "output_type": "stream",
     "text": [
      "Epoch 4/5\n",
      "  Train Loss: 0.3296, Accuracy: 0.8543, Time: 226.39s\n",
      "  Eval Loss: 0.3023, Accuracy: 0.8603, Time: 12.65s\n"
     ]
    },
    {
     "data": {
      "application/vnd.jupyter.widget-view+json": {
       "model_id": "0a4488e035384391a339259586d9344c",
       "version_major": 2,
       "version_minor": 0
      },
      "text/plain": [
       "Training:   0%|          | 0/207 [00:00<?, ?it/s]"
      ]
     },
     "metadata": {},
     "output_type": "display_data"
    },
    {
     "name": "stdout",
     "output_type": "stream",
     "text": [
      "  Batch 100: Loss: 0.3290, Accuracy: 0.8562\n",
      "  Batch 200: Loss: 0.3156, Accuracy: 0.8622\n"
     ]
    },
    {
     "data": {
      "application/vnd.jupyter.widget-view+json": {
       "model_id": "8c0b96bf3a1c4e24a9cba0188726a45e",
       "version_major": 2,
       "version_minor": 0
      },
      "text/plain": [
       "Evaluating:   0%|          | 0/26 [00:00<?, ?it/s]"
      ]
     },
     "metadata": {},
     "output_type": "display_data"
    },
    {
     "name": "stdout",
     "output_type": "stream",
     "text": [
      "Epoch 5/5\n",
      "  Train Loss: 0.3121, Accuracy: 0.8637, Time: 226.46s\n",
      "  Eval Loss: 0.3019, Accuracy: 0.8676, Time: 12.67s\n"
     ]
    }
   ],
   "source": [
    "print(\"\\nRunning LoRA experiment...\")\n",
    "torch.cuda.empty_cache()\n",
    "gc.collect()\n",
    "lora_results = train_model(lora_model, train_dataloader, eval_dataloader, lora_learning_rate, num_epochs, device)"
   ]
  },
  {
   "cell_type": "code",
   "execution_count": 11,
   "id": "9782f21d-ed81-4341-aa5c-aa4de044ec2d",
   "metadata": {},
   "outputs": [
    {
     "data": {
      "application/vnd.jupyter.widget-view+json": {
       "model_id": "fd618e1298cc4fdd971ab208b87a7d89",
       "version_major": 2,
       "version_minor": 0
      },
      "text/plain": [
       "Training:   0%|          | 0/207 [00:00<?, ?it/s]"
      ]
     },
     "metadata": {},
     "output_type": "display_data"
    },
    {
     "name": "stdout",
     "output_type": "stream",
     "text": [
      "  Batch 100: Loss: 0.2639, Accuracy: 0.8900\n",
      "  Batch 200: Loss: 0.2746, Accuracy: 0.8878\n"
     ]
    },
    {
     "data": {
      "application/vnd.jupyter.widget-view+json": {
       "model_id": "6ea87ff272314da1a8fa6498954a48ee",
       "version_major": 2,
       "version_minor": 0
      },
      "text/plain": [
       "Evaluating:   0%|          | 0/26 [00:00<?, ?it/s]"
      ]
     },
     "metadata": {},
     "output_type": "display_data"
    },
    {
     "name": "stdout",
     "output_type": "stream",
     "text": [
      "Epoch 1/2\n",
      "  Train Loss: 0.2750, Accuracy: 0.8876, Time: 223.72s\n",
      "  Eval Loss: 0.3197, Accuracy: 0.8676, Time: 12.68s\n"
     ]
    },
    {
     "data": {
      "application/vnd.jupyter.widget-view+json": {
       "model_id": "f6ea7c99717441138eb285a12aacb253",
       "version_major": 2,
       "version_minor": 0
      },
      "text/plain": [
       "Training:   0%|          | 0/207 [00:00<?, ?it/s]"
      ]
     },
     "metadata": {},
     "output_type": "display_data"
    },
    {
     "name": "stdout",
     "output_type": "stream",
     "text": [
      "  Batch 100: Loss: 0.2561, Accuracy: 0.9038\n",
      "  Batch 200: Loss: 0.2589, Accuracy: 0.8972\n"
     ]
    },
    {
     "data": {
      "application/vnd.jupyter.widget-view+json": {
       "model_id": "2004cc53ff034987805b3ddecefcf3c6",
       "version_major": 2,
       "version_minor": 0
      },
      "text/plain": [
       "Evaluating:   0%|          | 0/26 [00:00<?, ?it/s]"
      ]
     },
     "metadata": {},
     "output_type": "display_data"
    },
    {
     "name": "stdout",
     "output_type": "stream",
     "text": [
      "Epoch 2/2\n",
      "  Train Loss: 0.2594, Accuracy: 0.8964, Time: 226.91s\n",
      "  Eval Loss: 0.3127, Accuracy: 0.8578, Time: 12.71s\n"
     ]
    }
   ],
   "source": [
    "lora_results2 = train_model(lora_model, train_dataloader, eval_dataloader, lora_learning_rate, 2, device)"
   ]
  },
  {
   "cell_type": "code",
   "execution_count": 10,
   "id": "b055f070-6fda-4ea3-abc2-22090cc63fec",
   "metadata": {},
   "outputs": [
    {
     "name": "stdout",
     "output_type": "stream",
     "text": [
      "\n",
      "Performance Comparison:\n",
      "Full:\n",
      "  Total training time: 3436.54s\n",
      "  Total evaluation time: 159.54s\n",
      "  Peak GPU memory usage: 2.02GB\n",
      "  Final evaluation accuracy: 0.8389\n",
      "LoRA:\n",
      "  Total training time: 2610.91s\n",
      "  Total evaluation time: 161.06s\n",
      "  Peak GPU memory usage: 1.02GB\n",
      "  Final evaluation accuracy: 0.8207\n"
     ]
    }
   ],
   "source": [
    "print(\"\\nPerformance Comparison:\")\n",
    "print_train_results(\"Full\", full_results)\n",
    "print_train_results(\"LoRA\", lora_results)"
   ]
  },
  {
   "cell_type": "markdown",
   "id": "c2c4daa1-03ac-4be9-8a9f-73c2c7b6f5e6",
   "metadata": {},
   "source": [
    "### Evaluate and Save to Disk"
   ]
  },
  {
   "cell_type": "code",
   "execution_count": 12,
   "id": "9abc3283-e362-4d11-abbc-65a5ebd2e014",
   "metadata": {},
   "outputs": [
    {
     "name": "stdout",
     "output_type": "stream",
     "text": [
      "Evaluating full fine-tuned model:\n"
     ]
    },
    {
     "data": {
      "application/vnd.jupyter.widget-view+json": {
       "model_id": "755030d37daf46caa3ae9d7f16c745ec",
       "version_major": 2,
       "version_minor": 0
      },
      "text/plain": [
       "Evaluating:   0%|          | 0/23 [00:00<?, ?it/s]"
      ]
     },
     "metadata": {},
     "output_type": "display_data"
    },
    {
     "name": "stdout",
     "output_type": "stream",
     "text": [
      "Full model - Accuracy: 0.8856, Loss: 0.3648, MCC: 0.7433, F1: 0.9139, Eval time: 10.48s\n",
      "\n",
      "Evaluating LoRA model:\n"
     ]
    },
    {
     "data": {
      "application/vnd.jupyter.widget-view+json": {
       "model_id": "eccb7b68e4934c199d79141fd450c3bf",
       "version_major": 2,
       "version_minor": 0
      },
      "text/plain": [
       "Evaluating:   0%|          | 0/23 [00:00<?, ?it/s]"
      ]
     },
     "metadata": {},
     "output_type": "display_data"
    },
    {
     "name": "stdout",
     "output_type": "stream",
     "text": [
      "LoRA model - Accuracy: 0.8856, Loss: 0.3076, MCC: 0.7417, F1: 0.9146, Eval time: 10.76s\n"
     ]
    }
   ],
   "source": [
    "print(\"Evaluating full fine-tuned model:\")\n",
    "full_loss, full_accuracy, full_mcc, full_f1, full_eval_time = evaluate(full_model, test_dataloader, device)\n",
    "print(f\"Full model - Accuracy: {full_accuracy:.4f}, Loss: {full_loss:.4f}, MCC: {full_mcc:.4f}, F1: {full_f1:.4f}, Eval time: {full_eval_time:.2f}s\")\n",
    "\n",
    "print(\"\\nEvaluating LoRA model:\")\n",
    "lora_loss, lora_accuracy, lora_mcc, lora_f1, lora_eval_time = evaluate(lora_model, test_dataloader, device)\n",
    "print(f\"LoRA model - Accuracy: {lora_accuracy:.4f}, Loss: {lora_loss:.4f}, MCC: {lora_mcc:.4f}, F1: {lora_f1:.4f}, Eval time: {lora_eval_time:.2f}s\")"
   ]
  },
  {
   "cell_type": "code",
   "execution_count": 13,
   "id": "067052f0-5d6b-4761-a893-80af46175293",
   "metadata": {},
   "outputs": [
    {
     "name": "stdout",
     "output_type": "stream",
     "text": [
      "\n",
      "Full fine-tuned model saved to ./mrpc-full_finetuned_model.pt\n",
      "Full model size: 475.57 MB\n",
      "LoRA layers and classifier saved to ./mrpc-lora_and_classifier.pt\n",
      "LoRA model size: 3.40 MB\n",
      "\n",
      "Size reduction: 139.75x\n"
     ]
    }
   ],
   "source": [
    "import os\n",
    "\n",
    "full_save_path = \"./mrpc-full_finetuned_model.pt\"\n",
    "torch.save(full_model.state_dict(), full_save_path)\n",
    "full_model.save_pretrained(\"mrpc-full_finetuned_model\")\n",
    "full_model_size = os.path.getsize(full_save_path) / (1024 * 1024)  # Size in MB\n",
    "print(f\"\\nFull fine-tuned model saved to {full_save_path}\")\n",
    "print(f\"Full model size: {full_model_size:.2f} MB\")\n",
    "\n",
    "lora_save_path = \"./mrpc-lora_and_classifier.pt\"\n",
    "lora_state_dict = {name: param for name, param in lora_model.named_parameters() \n",
    "                   if 'lora_A' in name or 'lora_B' in name or 'classifier' in name}\n",
    "torch.save(lora_state_dict, lora_save_path)\n",
    "lora_model_size = os.path.getsize(lora_save_path) / (1024 * 1024)  # Size in MB\n",
    "print(f\"LoRA layers and classifier saved to {lora_save_path}\")\n",
    "print(f\"LoRA model size: {lora_model_size:.2f} MB\")\n",
    "\n",
    "print(f\"\\nSize reduction: {full_model_size / lora_model_size:.2f}x\")"
   ]
  },
  {
   "cell_type": "markdown",
   "id": "ded824b5-f326-40d2-b8c2-1537a5c0ab33",
   "metadata": {},
   "source": [
    "### Load Model from Disk"
   ]
  },
  {
   "cell_type": "code",
   "execution_count": 15,
   "id": "a90cdaea-dcf3-491f-8ac2-18d6ca7a4691",
   "metadata": {},
   "outputs": [
    {
     "name": "stderr",
     "output_type": "stream",
     "text": [
      "Some weights of RobertaForSequenceClassification were not initialized from the model checkpoint at roberta-base and are newly initialized: ['classifier.dense.bias', 'classifier.dense.weight', 'classifier.out_proj.bias', 'classifier.out_proj.weight']\n",
      "You should probably TRAIN this model on a down-stream task to be able to use it for predictions and inference.\n"
     ]
    },
    {
     "data": {
      "application/vnd.jupyter.widget-view+json": {
       "model_id": "1953e70afdfb4e99b53d5f4b30f6b191",
       "version_major": 2,
       "version_minor": 0
      },
      "text/plain": [
       "Evaluating:   0%|          | 0/421 [00:00<?, ?it/s]"
      ]
     },
     "metadata": {},
     "output_type": "display_data"
    },
    {
     "name": "stdout",
     "output_type": "stream",
     "text": [
      "Loaded full model - Accuracy: 0.9538, Loss: 0.1755, Eval time: 191.10s\n"
     ]
    }
   ],
   "source": [
    "# Load full fine-tuned model\n",
    "loaded_full_model = AutoModelForSequenceClassification.from_pretrained(\"roberta-base\", num_labels=2)\n",
    "loaded_full_model.load_state_dict(torch.load(full_save_path))\n",
    "loaded_full_model.to(device)\n",
    "\n",
    "# Evaluate loaded full model\n",
    "full_loss, full_accuracy, full_eval_time = evaluate(loaded_full_model, test_dataloader, device)\n",
    "print(f\"Loaded full model - Accuracy: {full_accuracy:.4f}, Loss: {full_loss:.4f}, Eval time: {full_eval_time:.2f}s\")"
   ]
  },
  {
   "cell_type": "code",
   "execution_count": 17,
   "id": "14c824ee-2b76-4f3e-a426-7f333906bdd3",
   "metadata": {},
   "outputs": [
    {
     "name": "stderr",
     "output_type": "stream",
     "text": [
      "Some weights of RobertaForSequenceClassification were not initialized from the model checkpoint at roberta-base and are newly initialized: ['classifier.dense.bias', 'classifier.dense.weight', 'classifier.out_proj.bias', 'classifier.out_proj.weight']\n",
      "You should probably TRAIN this model on a down-stream task to be able to use it for predictions and inference.\n"
     ]
    },
    {
     "data": {
      "application/vnd.jupyter.widget-view+json": {
       "model_id": "52b51b29d17a43b4be04c70394c14e0b",
       "version_major": 2,
       "version_minor": 0
      },
      "text/plain": [
       "Evaluating:   0%|          | 0/421 [00:00<?, ?it/s]"
      ]
     },
     "metadata": {},
     "output_type": "display_data"
    },
    {
     "name": "stdout",
     "output_type": "stream",
     "text": [
      "Loaded LoRA model - Accuracy: 0.9468, Loss: 0.1553, Eval time: 201.92s\n"
     ]
    }
   ],
   "source": [
    "# Load LoRA model\n",
    "base_model = AutoModelForSequenceClassification.from_pretrained(\"roberta-base\", num_labels=2)\n",
    "loaded_lora_model = apply_lora(base_model, rank=8, alpha=8)\n",
    "loaded_lora_model.load_state_dict(torch.load(lora_save_path), strict=False)\n",
    "loaded_lora_model.to(device)\n",
    "\n",
    "# Evaluate loaded LoRA model\n",
    "lora_loss, lora_accuracy, lora_eval_time = evaluate(loaded_lora_model, test_dataloader, device)\n",
    "print(f\"Loaded LoRA model - Accuracy: {lora_accuracy:.4f}, Loss: {lora_loss:.4f}, Eval time: {lora_eval_time:.2f}s\")"
   ]
  },
  {
   "cell_type": "code",
   "execution_count": 18,
   "id": "bd6ad093-9abe-4503-8a4c-f199ab7521f4",
   "metadata": {
    "editable": true,
    "slideshow": {
     "slide_type": ""
    },
    "tags": []
   },
   "outputs": [
    {
     "name": "stdout",
     "output_type": "stream",
     "text": [
      "\n",
      "Verifying LoRA layers:\n",
      "LoRA layer found: roberta.encoder.layer.0.attention.self.query\n",
      "lora_A shape: torch.Size([768, 8])\n",
      "lora_B shape: torch.Size([8, 768])\n",
      "\n",
      "LoRA layer found: roberta.encoder.layer.0.attention.self.value\n",
      "lora_A shape: torch.Size([768, 8])\n",
      "lora_B shape: torch.Size([8, 768])\n",
      "\n",
      "LoRA layer found: roberta.encoder.layer.1.attention.self.query\n",
      "lora_A shape: torch.Size([768, 8])\n",
      "lora_B shape: torch.Size([8, 768])\n",
      "\n",
      "LoRA layer found: roberta.encoder.layer.1.attention.self.value\n",
      "lora_A shape: torch.Size([768, 8])\n",
      "lora_B shape: torch.Size([8, 768])\n",
      "\n",
      "LoRA layer found: roberta.encoder.layer.2.attention.self.query\n",
      "lora_A shape: torch.Size([768, 8])\n",
      "lora_B shape: torch.Size([8, 768])\n",
      "\n",
      "LoRA layer found: roberta.encoder.layer.2.attention.self.value\n",
      "lora_A shape: torch.Size([768, 8])\n",
      "lora_B shape: torch.Size([8, 768])\n",
      "\n",
      "LoRA layer found: roberta.encoder.layer.3.attention.self.query\n",
      "lora_A shape: torch.Size([768, 8])\n",
      "lora_B shape: torch.Size([8, 768])\n",
      "\n",
      "LoRA layer found: roberta.encoder.layer.3.attention.self.value\n",
      "lora_A shape: torch.Size([768, 8])\n",
      "lora_B shape: torch.Size([8, 768])\n",
      "\n",
      "LoRA layer found: roberta.encoder.layer.4.attention.self.query\n",
      "lora_A shape: torch.Size([768, 8])\n",
      "lora_B shape: torch.Size([8, 768])\n",
      "\n",
      "LoRA layer found: roberta.encoder.layer.4.attention.self.value\n",
      "lora_A shape: torch.Size([768, 8])\n",
      "lora_B shape: torch.Size([8, 768])\n",
      "\n",
      "LoRA layer found: roberta.encoder.layer.5.attention.self.query\n",
      "lora_A shape: torch.Size([768, 8])\n",
      "lora_B shape: torch.Size([8, 768])\n",
      "\n",
      "LoRA layer found: roberta.encoder.layer.5.attention.self.value\n",
      "lora_A shape: torch.Size([768, 8])\n",
      "lora_B shape: torch.Size([8, 768])\n",
      "\n",
      "LoRA layer found: roberta.encoder.layer.6.attention.self.query\n",
      "lora_A shape: torch.Size([768, 8])\n",
      "lora_B shape: torch.Size([8, 768])\n",
      "\n",
      "LoRA layer found: roberta.encoder.layer.6.attention.self.value\n",
      "lora_A shape: torch.Size([768, 8])\n",
      "lora_B shape: torch.Size([8, 768])\n",
      "\n",
      "LoRA layer found: roberta.encoder.layer.7.attention.self.query\n",
      "lora_A shape: torch.Size([768, 8])\n",
      "lora_B shape: torch.Size([8, 768])\n",
      "\n",
      "LoRA layer found: roberta.encoder.layer.7.attention.self.value\n",
      "lora_A shape: torch.Size([768, 8])\n",
      "lora_B shape: torch.Size([8, 768])\n",
      "\n",
      "LoRA layer found: roberta.encoder.layer.8.attention.self.query\n",
      "lora_A shape: torch.Size([768, 8])\n",
      "lora_B shape: torch.Size([8, 768])\n",
      "\n",
      "LoRA layer found: roberta.encoder.layer.8.attention.self.value\n",
      "lora_A shape: torch.Size([768, 8])\n",
      "lora_B shape: torch.Size([8, 768])\n",
      "\n",
      "LoRA layer found: roberta.encoder.layer.9.attention.self.query\n",
      "lora_A shape: torch.Size([768, 8])\n",
      "lora_B shape: torch.Size([8, 768])\n",
      "\n",
      "LoRA layer found: roberta.encoder.layer.9.attention.self.value\n",
      "lora_A shape: torch.Size([768, 8])\n",
      "lora_B shape: torch.Size([8, 768])\n",
      "\n",
      "LoRA layer found: roberta.encoder.layer.10.attention.self.query\n",
      "lora_A shape: torch.Size([768, 8])\n",
      "lora_B shape: torch.Size([8, 768])\n",
      "\n",
      "LoRA layer found: roberta.encoder.layer.10.attention.self.value\n",
      "lora_A shape: torch.Size([768, 8])\n",
      "lora_B shape: torch.Size([8, 768])\n",
      "\n",
      "LoRA layer found: roberta.encoder.layer.11.attention.self.query\n",
      "lora_A shape: torch.Size([768, 8])\n",
      "lora_B shape: torch.Size([8, 768])\n",
      "\n",
      "LoRA layer found: roberta.encoder.layer.11.attention.self.value\n",
      "lora_A shape: torch.Size([768, 8])\n",
      "lora_B shape: torch.Size([8, 768])\n",
      "\n",
      "Evaluating model with zeroed LoRA weights:\n"
     ]
    },
    {
     "data": {
      "application/vnd.jupyter.widget-view+json": {
       "model_id": "7a0fd6a0ad074882bd4a4eb5cd37c6ce",
       "version_major": 2,
       "version_minor": 0
      },
      "text/plain": [
       "Evaluating:   0%|          | 0/421 [00:00<?, ?it/s]"
      ]
     },
     "metadata": {},
     "output_type": "display_data"
    },
    {
     "name": "stdout",
     "output_type": "stream",
     "text": [
      "Zeroed LoRA model - Accuracy: 0.5543, Loss: 0.6874, Eval time: 200.53s\n"
     ]
    }
   ],
   "source": [
    "# Demonstrate that LoRA is there and that without it the model performs poorly\n",
    "\n",
    "print(\"\\nVerifying LoRA layers:\")\n",
    "for name, module in loaded_lora_model.named_modules():\n",
    "    if isinstance(module, LoRALayer):\n",
    "        print(f\"LoRA layer found: {name}\")\n",
    "        print(f\"lora_A shape: {module.lora_A.shape}\")\n",
    "        print(f\"lora_B shape: {module.lora_B.shape}\")\n",
    "        print()\n",
    "\n",
    "print(\"Evaluating model with zeroed LoRA weights:\")\n",
    "for name, param in loaded_lora_model.named_parameters():\n",
    "    if 'lora_A' in name or 'lora_B' in name:\n",
    "        param.data.zero_()\n",
    "\n",
    "zero_loss, zero_accuracy, zero_eval_time = evaluate(loaded_lora_model, test_dataloader, device)\n",
    "print(f\"Zeroed LoRA model - Accuracy: {zero_accuracy:.4f}, Loss: {zero_loss:.4f}, Eval time: {zero_eval_time:.2f}s\")"
   ]
  }
 ],
 "metadata": {
  "kernelspec": {
   "display_name": "Python 3 (ipykernel)",
   "language": "python",
   "name": "python3"
  },
  "language_info": {
   "codemirror_mode": {
    "name": "ipython",
    "version": 3
   },
   "file_extension": ".py",
   "mimetype": "text/x-python",
   "name": "python",
   "nbconvert_exporter": "python",
   "pygments_lexer": "ipython3",
   "version": "3.11.8"
  }
 },
 "nbformat": 4,
 "nbformat_minor": 5
}
